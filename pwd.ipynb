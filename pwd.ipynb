{
 "cells": [
  {
   "cell_type": "markdown",
   "metadata": {},
   "source": [
    "## PWD string flipping for Pwd securirty"
   ]
  },
  {
   "cell_type": "code",
   "execution_count": 5,
   "metadata": {},
   "outputs": [
    {
     "name": "stdout",
     "output_type": "stream",
     "text": [
      "Minimum number of flips required: 3\n"
     ]
    }
   ],
   "source": [
    "def min_flips_to_secure_password(pwd):\n",
    "    n = len(pwd)\n",
    "    if n % 2 != 0:\n",
    "        return -1  # If the length of the string is odd, it's impossible to split it into even-length substrings\n",
    "\n",
    "    # Split the password into pairs\n",
    "    flips = 0\n",
    "    for i in range(0, n, 2):\n",
    "        pair = pwd[i:i+2]\n",
    "        # Check if the pair is homogeneous (either '00' or '11')\n",
    "        if pair == \"01\" or pair == \"10\":\n",
    "            flips += 1\n",
    "\n",
    "    return flips\n",
    "\n",
    "# Example usage:\n",
    "pwd = \"10101101\"  # Example password string\n",
    "result = min_flips_to_secure_password(pwd)\n",
    "print(f\"Minimum number of flips required: {result}\")\n"
   ]
  }
 ],
 "metadata": {
  "kernelspec": {
   "display_name": "default_env",
   "language": "python",
   "name": "python3"
  },
  "language_info": {
   "codemirror_mode": {
    "name": "ipython",
    "version": 3
   },
   "file_extension": ".py",
   "mimetype": "text/x-python",
   "name": "python",
   "nbconvert_exporter": "python",
   "pygments_lexer": "ipython3",
   "version": "3.11.9"
  }
 },
 "nbformat": 4,
 "nbformat_minor": 2
}
