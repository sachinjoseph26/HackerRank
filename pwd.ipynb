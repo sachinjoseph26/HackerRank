{
 "cells": [
  {
   "cell_type": "markdown",
   "metadata": {},
   "source": [
    "## PWD string flipping for Pwd securirty"
   ]
  },
  {
   "cell_type": "code",
   "execution_count": 10,
   "metadata": {},
   "outputs": [
    {
     "name": "stdout",
     "output_type": "stream",
     "text": [
      "Minimum number of flips required: 3\n"
     ]
    }
   ],
   "source": [
    "def min_flips_to_secure_password(pwd):\n",
    "    n = len(pwd)\n",
    "\n",
    "    flips = 0\n",
    "    # Process the string two characters at a time\n",
    "    for i in range(0, n, 2):\n",
    "        # If the substring length is less than 2 (happens with an odd-length string)\n",
    "        if i + 1 >= n:\n",
    "            break\n",
    "\n",
    "        pair = pwd[i:i+2]\n",
    "        # Check if the pair is homogeneous (either '00' or '11')\n",
    "        if pair == \"01\" or pair == \"10\":\n",
    "            flips += 1\n",
    "\n",
    "    return flips\n",
    "\n",
    "# Example usage:\n",
    "pwd = \"010110\"  # Example password string with an odd length\n",
    "result = min_flips_to_secure_password(pwd)\n",
    "print(f\"Minimum number of flips required: {result}\")\n"
   ]
  },
  {
   "cell_type": "markdown",
   "metadata": {},
   "source": [
    "## Counter Problem"
   ]
  },
  {
   "cell_type": "code",
   "execution_count": 14,
   "metadata": {},
   "outputs": [
    {
     "name": "stdout",
     "output_type": "stream",
     "text": [
      "Result: [0, 2, 0]\n"
     ]
    }
   ],
   "source": [
    "def array_challenge(arr):\n",
    "    n= len(arr)\n",
    "    result_cntr = []\n",
    "    for i in range(n):\n",
    "        c =0\n",
    "        for j in range(i):\n",
    "            if arr[j] > arr[i]:\n",
    "                c -= abs(arr[j] - arr[i])\n",
    "            else:\n",
    "                c += abs(arr[j] - arr[i])\n",
    "        result_cntr.append(c)\n",
    "    return result_cntr\n",
    "\n",
    "\n",
    "# Example usage:\n",
    "arr = [2,4,3]\n",
    "result_cntr = array_challenge(arr)\n",
    "print(f\"Result: {result_cntr}\")"
   ]
  },
  {
   "cell_type": "markdown",
   "metadata": {},
   "source": [
    "## Word Problem\n",
    "An English lecture at HackerElementary School is almed at teaching students the letters of the\n",
    "alphabet.\n",
    "\n",
    "The students are provided with a string word that consists of lowercase English letters. In one move.\n",
    "they can choose any index i. and let the character at that index be c. Then the first occurrence of cto\n",
    "the left of i and the first occurrence of cto the right of / are deleted (Note: the operation can still be\n",
    "carried out even if either the left or right occurrence doesn't exist). For example. if word =\n",
    "\"adabacaea\", and if index 4 is chosen (0-based), the first occurrence of 'a' to the left and right of index\n",
    "4 (bold, indices 2 and 6) are deleted leaving word = \"adbacea\".\n",
    "\n",
    "Find the minimum number of moves the students need to perform in order to get a word of minimal\n",
    "length.\n",
    "\n",
    "Example\n",
    "Consider word = \"baabacaa\".\n",
    "\n",
    "The following moves are optimal.\n",
    "\n",
    "1. Choose index 0. \"baabacaa\", then word - \"baaacaa\". Delete the bto its right at index 3. There is no b to\n",
    "its left so the operation is finished.\n",
    "2. Now, choose index 2. \"baaacaa\", then word - \"bacaa\".\n",
    "3. Now. choose index 3, \"bacaa\", then word - \"bca\".\n",
    "\n",
    "The word cannot be reduced further. The answer is 3."
   ]
  },
  {
   "cell_type": "code",
   "execution_count": null,
   "metadata": {},
   "outputs": [],
   "source": [
    "\n",
    "#The students are provided with a string word that consists of lowercase English letters. In one move.\n",
    "#they can choose any index i. and let the character at that index be c. Then the first occurrence of cto\n",
    "#the left of i and the first occurrence of cto the right of / are deleted (Note: the operation can still be\n",
    "#carried out even if either the left or right occurrence doesn't exist). For example. if word =\n",
    "#\"adabacaea\", and if index 4 is chosen (0-based), the first occurrence of 'a' to the left and right of index\n",
    "#4 (bold, indices 2 and 6) are deleted leaving word = \"adbacea\".\n",
    "\n",
    "def word_filter(word):\n",
    "    moves =0\n",
    "\n"
   ]
  }
 ],
 "metadata": {
  "kernelspec": {
   "display_name": "default_env",
   "language": "python",
   "name": "python3"
  },
  "language_info": {
   "codemirror_mode": {
    "name": "ipython",
    "version": 3
   },
   "file_extension": ".py",
   "mimetype": "text/x-python",
   "name": "python",
   "nbconvert_exporter": "python",
   "pygments_lexer": "ipython3",
   "version": "3.11.9"
  }
 },
 "nbformat": 4,
 "nbformat_minor": 2
}
