{
 "cells": [
  {
   "cell_type": "markdown",
   "metadata": {},
   "source": [
    "## PWD string flipping for Pwd securirty"
   ]
  },
  {
   "cell_type": "code",
   "execution_count": 10,
   "metadata": {},
   "outputs": [
    {
     "name": "stdout",
     "output_type": "stream",
     "text": [
      "Minimum number of flips required: 3\n"
     ]
    }
   ],
   "source": [
    "def min_flips_to_secure_password(pwd):\n",
    "    n = len(pwd)\n",
    "\n",
    "    flips = 0\n",
    "    # Process the string two characters at a time\n",
    "    for i in range(0, n, 2):\n",
    "        # If the substring length is less than 2 (happens with an odd-length string)\n",
    "        if i + 1 >= n:\n",
    "            break\n",
    "\n",
    "        pair = pwd[i:i+2]\n",
    "        # Check if the pair is homogeneous (either '00' or '11')\n",
    "        if pair == \"01\" or pair == \"10\":\n",
    "            flips += 1\n",
    "\n",
    "    return flips\n",
    "\n",
    "# Example usage:\n",
    "pwd = \"010110\"  # Example password string with an odd length\n",
    "result = min_flips_to_secure_password(pwd)\n",
    "print(f\"Minimum number of flips required: {result}\")\n"
   ]
  },
  {
   "cell_type": "markdown",
   "metadata": {},
   "source": [
    "## Counter Problem"
   ]
  },
  {
   "cell_type": "code",
   "execution_count": 14,
   "metadata": {},
   "outputs": [
    {
     "name": "stdout",
     "output_type": "stream",
     "text": [
      "Result: [0, 2, 0]\n"
     ]
    }
   ],
   "source": [
    "def array_challenge(arr):\n",
    "    n= len(arr)\n",
    "    result_cntr = []\n",
    "    for i in range(n):\n",
    "        c =0\n",
    "        for j in range(i):\n",
    "            if arr[j] > arr[i]:\n",
    "                c -= abs(arr[j] - arr[i])\n",
    "            else:\n",
    "                c += abs(arr[j] - arr[i])\n",
    "        result_cntr.append(c)\n",
    "    return result_cntr\n",
    "\n",
    "\n",
    "# Example usage:\n",
    "arr = [2,4,3]\n",
    "result_cntr = array_challenge(arr)\n",
    "print(f\"Result: {result_cntr}\")"
   ]
  },
  {
   "cell_type": "markdown",
   "metadata": {},
   "source": [
    "## Word Problem\n",
    "An English lecture at HackerElementary School is almed at teaching students the letters of the\n",
    "alphabet.\n",
    "\n",
    "The students are provided with a string word that consists of lowercase English letters. In one move.\n",
    "they can choose any index i. and let the character at that index be c. Then the first occurrence of cto\n",
    "the left of i and the first occurrence of cto the right of / are deleted (Note: the operation can still be\n",
    "carried out even if either the left or right occurrence doesn't exist). For example. if word =\n",
    "\"adabacaea\", and if index 4 is chosen (0-based), the first occurrence of 'a' to the left and right of index\n",
    "4 (bold, indices 2 and 6) are deleted leaving word = \"adbacea\".\n",
    "\n",
    "Find the minimum number of moves the students need to perform in order to get a word of minimal\n",
    "length.\n",
    "\n",
    "Example\n",
    "Consider word = \"baabacaa\".\n",
    "\n",
    "The following moves are optimal.\n",
    "\n",
    "1. Choose index 0. \"baabacaa\", then word - \"baaacaa\". Delete the bto its right at index 3. There is no b to\n",
    "its left so the operation is finished.\n",
    "2. Now, choose index 2. \"baaacaa\", then word - \"bacaa\".\n",
    "3. Now. choose index 3, \"bacaa\", then word - \"bca\".\n",
    "\n",
    "The word cannot be reduced further. The answer is 3."
   ]
  },
  {
   "cell_type": "code",
   "execution_count": 24,
   "metadata": {},
   "outputs": [
    {
     "name": "stdout",
     "output_type": "stream",
     "text": [
      "Minimum number of moves required: 3\n"
     ]
    }
   ],
   "source": [
    "def find_minimum_moves(word):\n",
    "    moves = 0\n",
    "    char_count = {}\n",
    "\n",
    "    # Count the occurrences of each character in the word\n",
    "    for char in word:\n",
    "        if char in char_count:\n",
    "            char_count[char] += 1\n",
    "        else:\n",
    "            char_count[char] = 1\n",
    "\n",
    "    # Calculate the minimum number of moves\n",
    "    for count in char_count.values():\n",
    "        if count > 1:\n",
    "            moves += count // 2\n",
    "\n",
    "    return moves\n",
    "\n",
    "# Example usage\n",
    "word = \"baabacaa\"\n",
    "result = find_minimum_moves(word)\n",
    "print(f\"Minimum number of moves required: {result}\")\n"
   ]
  },
  {
   "cell_type": "markdown",
   "metadata": {},
   "source": [
    "## Stock Triplet"
   ]
  },
  {
   "cell_type": "code",
   "execution_count": 25,
   "metadata": {},
   "outputs": [
    {
     "name": "stdout",
     "output_type": "stream",
     "text": [
      "Result: 3\n"
     ]
    }
   ],
   "source": [
    "def triplet_sum(arr,d):\n",
    "    n = len(arr)\n",
    "\n",
    "    c = 0\n",
    "    for i in range(n):\n",
    "        for j in range(i+1,n):\n",
    "            for k in range(j+1,n):\n",
    "                s = arr[i] + arr[j] + arr[k]\n",
    "\n",
    "                if s%d == 0:\n",
    "                    c +=1\n",
    "    \n",
    "    return c\n",
    "\n",
    "# Example usage:\n",
    "\n",
    "arr = [3, 3, 4, 7, 8]\n",
    "\n",
    "d = 5\n",
    "trp_result = triplet_sum(arr,d)\n",
    "print(f\"Result: {trp_result}\")"
   ]
  },
  {
   "cell_type": "markdown",
   "metadata": {},
   "source": [
    "## Fizzbuzz"
   ]
  },
  {
   "cell_type": "code",
   "execution_count": 27,
   "metadata": {},
   "outputs": [
    {
     "name": "stdout",
     "output_type": "stream",
     "text": [
      "1\n",
      "2\n",
      "Fizz\n",
      "4\n",
      "Buzz\n",
      "Fizz\n",
      "7\n",
      "8\n",
      "Fizz\n",
      "Buzz\n",
      "11\n",
      "Fizz\n",
      "13\n",
      "14\n",
      "FizzBuzz\n"
     ]
    }
   ],
   "source": [
    "n = int(input())\n",
    "\n",
    "# inclusive range of n\n",
    "\n",
    "for i in range(1,n+1):\n",
    "    if i%3 == 0 and i%5 == 0:\n",
    "        print(\"FizzBuzz\")\n",
    "    elif i%3 == 0 and i%5 != 0:\n",
    "        print(\"Fizz\")\n",
    "    elif i%3 != 0 and i%5 == 0:\n",
    "        print(\"Buzz\")\n",
    "    else:\n",
    "        print(i)"
   ]
  },
  {
   "cell_type": "markdown",
   "metadata": {},
   "source": [
    "## FC Codelone"
   ]
  },
  {
   "cell_type": "code",
   "execution_count": 5,
   "metadata": {},
   "outputs": [
    {
     "name": "stdout",
     "output_type": "stream",
     "text": [
      "[4, 6, 5, 10]\n",
      "5\n"
     ]
    }
   ],
   "source": [
    "from itertools import combinations\n",
    "\n",
    "def total_count(skills, minPlayers, minLevel, maxLevel):\n",
    "    valid_players = [skill for skill in skills if minLevel <= skill <= maxLevel]\n",
    "\n",
    "    print(valid_players)\n",
    "\n",
    "    count = 0\n",
    "\n",
    "    for team_size in range(minPlayers,len(valid_players)+1):\n",
    "        count += len(list(combinations(valid_players,team_size)))\n",
    "    return count\n",
    "\n",
    "\n",
    "\n",
    "# Example usage\n",
    "skills = [12, 4, 6, 13, 5, 10]\n",
    "minPlayers = 3\n",
    "minLevel = 4\n",
    "maxLevel = 10\n",
    "result = total_count(skills, minPlayers, minLevel, maxLevel)\n",
    "print(result)"
   ]
  },
  {
   "cell_type": "code",
   "execution_count": 7,
   "metadata": {},
   "outputs": [
    {
     "name": "stdout",
     "output_type": "stream",
     "text": [
      "2\n"
     ]
    }
   ],
   "source": [
    "\n",
    "\n",
    "def getMaxUnits(boxes, unitsPerBox,truckSize):\n",
    "    t=[]\n",
    "    for i in range(len(boxes)):\n",
    "        t.append([boxes[i],unitsPerBox[i]])\n",
    "    t.sort(key=lambda x:x[1],reverse = True)\n",
    "    p= 0\n",
    "    for i, j in t:\n",
    "        if i<truckSize:\n",
    "            p+=i*j\n",
    "            truckSize -= i\n",
    "        else:\n",
    "            p+=truckSize*j\n",
    "            break\n",
    "    return p\n",
    "\n",
    "# Example usage based on sample case:\n",
    "boxes = [1]\n",
    "unitsPerBox = [2]\n",
    "truckSize = 1\n",
    "\n",
    "result = getMaxUnits(boxes, unitsPerBox, truckSize)\n",
    "print(result)  # Output should be 2\n"
   ]
  },
  {
   "cell_type": "code",
   "execution_count": 8,
   "metadata": {},
   "outputs": [
    {
     "name": "stdout",
     "output_type": "stream",
     "text": [
      "4\n"
     ]
    }
   ],
   "source": [
    "def maxTrailing(arr):\n",
    "    m = -1  # Initialize the maximum difference to -1 as per the problem statement\n",
    "    x = arr[0]  # Start with the first element of the array\n",
    "    \n",
    "    for i in range(1, len(arr)):\n",
    "        if arr[i] > x:\n",
    "            d = arr[i] - x  # Calculate the difference\n",
    "            if d > m:\n",
    "                m = d  # Update the maximum difference if the current difference is larger\n",
    "        else:\n",
    "            x = arr[i]  # Update the reference value if the current element is smaller\n",
    "    \n",
    "    return m\n",
    "\n",
    "# Example usage\n",
    "arr = [5, 3, 6, 7, 4]\n",
    "result = maxTrailing(arr)\n",
    "print(result)  # Output should be 4\n"
   ]
  }
 ],
 "metadata": {
  "kernelspec": {
   "display_name": "default_env",
   "language": "python",
   "name": "python3"
  },
  "language_info": {
   "codemirror_mode": {
    "name": "ipython",
    "version": 3
   },
   "file_extension": ".py",
   "mimetype": "text/x-python",
   "name": "python",
   "nbconvert_exporter": "python",
   "pygments_lexer": "ipython3",
   "version": "3.11.9"
  }
 },
 "nbformat": 4,
 "nbformat_minor": 2
}
